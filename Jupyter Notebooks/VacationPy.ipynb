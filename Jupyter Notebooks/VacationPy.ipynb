{
 "cells": [
  {
   "cell_type": "code",
   "execution_count": null,
   "id": "f66aa8af",
   "metadata": {},
   "outputs": [],
   "source": [
    "# import dependencies\n",
    "import matplotlib.pyplot as plt\n",
    "import pandas as pd\n",
    "import numpy as np\n",
    "import requests\n",
    "import gmaps\n",
    "import os\n",
    "\n",
    "from api_keys import g_key"
   ]
  },
  {
   "cell_type": "code",
   "execution_count": null,
   "id": "7b0b2dbe",
   "metadata": {},
   "outputs": [],
   "source": [
    "# reads the data created from WeatherPy\n",
    "data = pd.read_csv(\"../outputs/city_list.csv\")\n",
    "# stores the latitude and longitude for the locations and humidity as a \"weight\" for the heatmap\n",
    "locations = data[\"Latitude\", \"Longitude\"]\n",
    "humid = data[\"Humidity\"]\n",
    "fig = gmaps.figure()\n",
    "# creating the heat layer\n",
    "heat_layer = gmaps.heatmap_layer(locations, weights=humid, dissipating=False, max_intensity=100, point_radius=2)\n",
    "fig.add_layer(heat_layer)\n",
    "fig"
   ]
  },
  {
   "cell_type": "code",
   "execution_count": null,
   "id": "71f22557",
   "metadata": {},
   "outputs": [],
   "source": [
    "# narrowing down the data by condition until there is only 10 cities\n",
    "city_data = data.loc[data[\"Max Temp\"] > 70]\n",
    "city_data = city_data.loc[city_data[\"Max Temp\"] < 75]\n",
    "city_data = city_data.loc[city_data[\"Humidity\"] < 50]\n",
    "city_data = city_data.loc[city_data[\"Wind Speed\"] < 12]\n",
    "# getting rid of unnecessary rows from the df and adding a column named \"Hotel Name\"\n",
    "city_data = city_data[[\"City\", \"Latitude\", \"Longitude\", \"Country\"]]\n",
    "city_data[\"Hotel Name\"] = \"\"\n",
    "hotels_df = city_data\n",
    "hotels_df"
   ]
  },
  {
   "cell_type": "code",
   "execution_count": null,
   "id": "e901504b",
   "metadata": {},
   "outputs": [],
   "source": [
    "url = \"https://maps.googleapis.com/maps/api/place/nearbysearch/json\"\n",
    "\n",
    "params = {\"radius\" : 5000,\n",
    "             \"types\" : \"hotel\",\n",
    "             \"key\" : g_key}\n",
    "\n",
    "# loops through the entire df\n",
    "for index, row in hotels_df.iterrows():\n",
    "    # stores the latitude and longitude of each city\n",
    "    latitude = row[\"Latitude\"]\n",
    "    longitude = row[\"Longitude\"]\n",
    "    # add location to the params\n",
    "    params[\"locations\"] = f\"{latitude}, {longitude}\"\n",
    "    # make the api request\n",
    "    hotel_search = requests.get(url, params=params).json()\n",
    "    \n",
    "    try:\n",
    "        hotels_df.loc[index, \"Hotel Name\"] = hotel_search[\"results\"][0][\"name\"]\n",
    "        \n",
    "    except (KeyError, IndexError):\n",
    "        print(\"Missing result.\")\n",
    "hotels_df"
   ]
  },
  {
   "cell_type": "code",
   "execution_count": null,
   "id": "6c96aded",
   "metadata": {},
   "outputs": [],
   "source": [
    "# setting up the hotel markers for the heatmap\n",
    "info_template = \"\"\"\n",
    "<dl>\n",
    "<dt>Name</dt><dd>{Hotel Name}</dd>\n",
    "<dt>City</dt><dd>{City}</dd>\n",
    "<dt>Country</dt><dd>{Country}</dd>\n",
    "</dl>\n",
    "\"\"\"\n",
    "# stores the df row into the marker template\n",
    "hotels_info = [info_template.format(**row) for index, row in hotels_df.iterrows()]\n",
    "# stores the latitude and longitude for every hotel\n",
    "locations = hotels_df[[\"Latitude\", \"Longitude\"]]\n",
    "# adding markers to the layer for each hotel\n",
    "hotels_layer = gmaps.marker_layer(locations, info_box_content=hotels_info)\n",
    "# adding a layer and display figure\n",
    "fig.add_layer(hotel_layer)\n",
    "fig"
   ]
  }
 ],
 "metadata": {
  "kernelspec": {
   "display_name": "Python 3 (ipykernel)",
   "language": "python",
   "name": "python3"
  },
  "language_info": {
   "codemirror_mode": {
    "name": "ipython",
    "version": 3
   },
   "file_extension": ".py",
   "mimetype": "text/x-python",
   "name": "python",
   "nbconvert_exporter": "python",
   "pygments_lexer": "ipython3",
   "version": "3.9.7"
  }
 },
 "nbformat": 4,
 "nbformat_minor": 5
}
