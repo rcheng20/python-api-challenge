{
 "cells": [
  {
   "cell_type": "code",
   "execution_count": null,
   "id": "48dd82b2",
   "metadata": {},
   "outputs": [],
   "source": [
    "# import dependencies\n",
    "import pandas as pd\n",
    "import time\n",
    "import requests\n",
    "import matplotlib.pyplot as plt\n",
    "import json\n",
    "import numpy as np\n",
    "\n",
    "from scipy.stats import linregress\n",
    "from datetime import date\n",
    "from config import weather_api_key\n",
    "from citipy import citipy"
   ]
  },
  {
   "cell_type": "code",
   "execution_count": null,
   "id": "bf653418",
   "metadata": {},
   "outputs": [],
   "source": [
    "latitude_range = (-90,90)\n",
    "longitude_range = (-180, 180)"
   ]
  },
  {
   "cell_type": "code",
   "execution_count": null,
   "id": "a204d51a",
   "metadata": {},
   "outputs": [],
   "source": [
    "# list to hold latitudes and longitudes\n",
    "latitude_longitude = []\n",
    "# list to hold city names\n",
    "cities = []\n",
    "# creates random latitude and longitude combinations\n",
    "lat = np.random.uniform(low=latitude_range[0], high=latitude_range[1] size=1500)\n",
    "long = np.random.uniform(low=longitude_range[0], high=1longitude_range[1], size=1500)\n",
    "latitude_longitude = zip(lat, long)"
   ]
  },
  {
   "cell_type": "code",
   "execution_count": null,
   "id": "20f78008",
   "metadata": {},
   "outputs": [],
   "source": [
    "# figure out the nearest city to each longitude and latitude\n",
    "for latitude_longitude in latitude_longitude:\n",
    "    city = citipy.nearest_city(latitude_longitude[0], latitude_longitude[1]).city_name\n",
    "    \n",
    "    if city not in cities:\n",
    "        cities.append(city)"
   ]
  },
  {
   "cell_type": "code",
   "execution_count": null,
   "id": "e4d84896",
   "metadata": {},
   "outputs": [],
   "source": [
    "list_of_lat_long = list(latitude_longitude)\n",
    "print(len(cities))"
   ]
  },
  {
   "cell_type": "code",
   "execution_count": null,
   "id": "06ef28ad",
   "metadata": {},
   "outputs": [],
   "source": [
    "# setting the units to imperial for fahrenheit units\n",
    "unit = \"imperial\"\n",
    "url = f\"https://api.openweathermap.org/data/2.5/weather?appid={weather_api_key}&units={unit}&q=\"\n",
    "\n",
    "# list to store values\n",
    "cloudy = []\n",
    "country = []\n",
    "date = []\n",
    "max_temp = []\n",
    "humidity = []\n",
    "latitude = []\n",
    "longitude = []\n",
    "wind_sp = []\n",
    "city_name = []"
   ]
  },
  {
   "cell_type": "code",
   "execution_count": null,
   "id": "5bdbf80f",
   "metadata": {},
   "outputs": [],
   "source": [
    "i = 0\n",
    "for city in cities:\n",
    "    city=city\n",
    "    query = url + city\n",
    "    resp = resp.get(query).json()\n",
    "    \n",
    "    try:\n",
    "        cloudy.append(resp[\"clouds\"][\"all\"])\n",
    "        country.append(resp[\"sys\"][\"country\"])\n",
    "        date.append(resp[\"dt\"])\n",
    "        max_temp.append(resp[\"main\"][\"temp_max\"])\n",
    "        humidity.append(resp[\"main\"][\"humidity\"])\n",
    "        latitude.append(resp[\"coord\"][\"lat\"])\n",
    "        longitude.append(resp[\"coord\"][\"lon\"])\n",
    "        wind_sp.append(resp[\"wind\"][\"speed\"])\n",
    "        city_name.append(resp[\"name\"])\n",
    "        print(f\"Proccessing record {i}|{city})\n",
    "        i+=1\n",
    "    except (KeyError):\n",
    "        print(\"City not found.\")"
   ]
  },
  {
   "cell_type": "code",
   "execution_count": null,
   "id": "909e291d",
   "metadata": {},
   "outputs": [],
   "source": [
    "# converts the data extracted into a df\n",
    "df = pd.DataFrame({\"City\":city_name,\n",
    "                  \"Cloudiness\":cloudy,\n",
    "                  \"Country\":country,\n",
    "                  \"Date\":date,\n",
    "                  \"Humidity\":humidity,\n",
    "                  \"Latitude\":latitude,\n",
    "                  \"Longitude\":longtitude,\n",
    "                  \"Max Temp\":max_temp,\n",
    "                  \"Wind Speed\":wind_sp\n",
    "                  })\n",
    "df = df.rename_axos('City ID')\n",
    "df.to_csv(\"city_list.csv\", index=False)\n",
    "df.head()"
   ]
  },
  {
   "cell_type": "code",
   "execution_count": null,
   "id": "5432fdb0",
   "metadata": {},
   "outputs": [],
   "source": [
    "df.describe()"
   ]
  },
  {
   "cell_type": "code",
   "execution_count": null,
   "id": "9c39f3dd",
   "metadata": {},
   "outputs": [],
   "source": [
    "# plotting the latitude vs. maximum temperature onto a scatter plot\n",
    "today = date.today()\n",
    "df.plot(\"Latitude\", \"Max Temp\", kind=\"scatter\", title=f\"City Latitude vs Max Temperature {today}\", grid=True, \n",
    "        s=40, edgecolors=\"black\", alpha=0.80)"
   ]
  },
  {
   "cell_type": "code",
   "execution_count": null,
   "id": "c5f4507c",
   "metadata": {},
   "outputs": [],
   "source": [
    "# plotting the latitude vs. cloudiness onto a scatter plot\n",
    "df.plot(\"Latitude\", \"Cloudiness\", kind=\"scatter\", title=f\"City Latitude vs. Cloudiness {today}\", grid=True,\n",
    "       s=40, edgecolors=\"black\", alpha=0.80)"
   ]
  },
  {
   "cell_type": "code",
   "execution_count": null,
   "id": "2046ac7c",
   "metadata": {},
   "outputs": [],
   "source": [
    "# plotting the latitude vs. humidity onto a scatter plot\n",
    "df.plot(\"Latitude\", \"Humidity\", kind=\"scatter\", title=f\"City Latitude vs. Cloudiness {today}\", grid=True,\n",
    "       s=40, edgecolors=\"black\", alpha=0.80)"
   ]
  },
  {
   "cell_type": "code",
   "execution_count": null,
   "id": "0a8d5f2a",
   "metadata": {},
   "outputs": [],
   "source": [
    "# plotting the latitude vs. wind speed onto a scatter plot\n",
    "df.plot(\"Latitude\", \"Wind Speed\", kind=\"scatter\", title=f\"City Latitude vs. Cloudiness {today}\", grid=True,\n",
    "       s=40, edgecolors=\"black\", alpha=0.80)"
   ]
  },
  {
   "cell_type": "code",
   "execution_count": null,
   "id": "a31d8a50",
   "metadata": {},
   "outputs": [],
   "source": [
    "# categorizing the cityes into northern and souther hemispheres\n",
    "northern = df.loc[df[\"Latitude\"] > 0]\n",
    "southern = df.loc[df[\"Latitude\"] < 0]\n",
    "\n",
    "# plots for northern hemisphere for latitude vs. temperature\n",
    "northern.plot(\"Latitude\", \"Max Temp\", kind=\"scatter\", title=f\"Northern Hemisphere vs Max Temperature {today}\", grid=True, \n",
    "        s=40, edgecolors=\"black\", alpha=0.80)\n",
    "\n",
    "# used for linear regression\n",
    "x = northern[\"Latitude\"]\n",
    "y = northern[\"Max Temp\"]\n",
    "(slope, intercept, rvalue, pvalue, stderr) = linregress(x, y)\n",
    "regress_vals = x * slope + intercept\n",
    "line_eq = \"y = \" + str(round(slope,2))+ \"x + \" + str(round(intercept, 2))\n",
    "plt.plot(x, regress_vals, \"r-\")\n",
    "plt.annotate(line_eq, (10,10), fontsize = 15, color=\"red\")\n",
    "print(f\"The r-value is: {rvalue**2}\")"
   ]
  },
  {
   "cell_type": "code",
   "execution_count": null,
   "id": "9d04599b",
   "metadata": {},
   "outputs": [],
   "source": [
    "# plots for southern hemisphere for latitude vs. temperature\n",
    "southern.plot(\"Latitude\", \"Max Temp\", kind=\"scatter\", title=f\"Southern Hemisphere Latitude vs Max Temperature {today}\", grid=True, \n",
    "        s=40, edgecolors=\"black\", alpha=0.80)\n",
    "\n",
    "# used for linear regression\n",
    "x = southern[\"Latitude\"]\n",
    "y = southern[\"Max Temp\"]\n",
    "(slope, intercept, rvalue, pvalue, stderr) = linregress(x, y)\n",
    "regress_vals = x * slope + intercept\n",
    "line_eq = \"y = \" + str(round(slope,2))+ \"x + \" + str(round(intercept, 2))\n",
    "plt.plot(x, regress_vals, \"r-\")\n",
    "plt.annotate(line_eq, (10,10), fontsize = 15, color=\"red\")\n",
    "print(f\"The r-value is: {rvalue**2}\")"
   ]
  },
  {
   "cell_type": "code",
   "execution_count": null,
   "id": "aa35318b",
   "metadata": {},
   "outputs": [],
   "source": [
    "# plots for northern hemisphere for latitude vs. humidity\n",
    "northern.plot(\"Latitude\", \"Humidity\", kind=\"scatter\", title=f\"Northern Hemisphere vs Humidity {today}\", grid=True, \n",
    "        s=40, edgecolors=\"black\", alpha=0.80)\n",
    "\n",
    "# used for linear regression\n",
    "x = northern[\"Latitude\"]\n",
    "y = northern[\"Humidity\"]\n",
    "(slope, intercept, rvalue, pvalue, stderr) = linregress(x, y)\n",
    "regress_vals = x * slope + intercept\n",
    "line_eq = \"y = \" + str(round(slope,2))+ \"x + \" + str(round(intercept, 2))\n",
    "plt.plot(x, regress_vals, \"r-\")\n",
    "plt.annotate(line_eq, (45,10), fontsize = 15, color=\"red\")\n",
    "print(f\"The r-value is: {rvalue**2}\")"
   ]
  },
  {
   "cell_type": "code",
   "execution_count": null,
   "id": "b10253d8",
   "metadata": {},
   "outputs": [],
   "source": [
    "# plots for southern hemisphere for latitude vs. humidity\n",
    "southern.plot(\"Latitude\", \"Humidity\", kind=\"scatter\", title=f\"Southern Hemisphere Latitude vs Humidity {today}\", grid=True, \n",
    "        s=40, edgecolors=\"black\", alpha=0.80)\n",
    "\n",
    "# used for linear regression\n",
    "x = southern[\"Latitude\"]\n",
    "y = southern[\"Humidity\"]\n",
    "(slope, intercept, rvalue, pvalue, stderr) = linregress(x, y)\n",
    "regress_vals = x * slope + intercept\n",
    "line_eq = \"y = \" + str(round(slope,2))+ \"x + \" + str(round(intercept, 2))\n",
    "plt.plot(x, regress_vals, \"r-\")\n",
    "plt.annotate(line_eq, (-55,40), fontsize = 15, color=\"red\")\n",
    "print(f\"The r-value is: {rvalue**2}\")"
   ]
  },
  {
   "cell_type": "code",
   "execution_count": null,
   "id": "3bcc6ab2",
   "metadata": {},
   "outputs": [],
   "source": [
    "# plots for northern hemisphere for latitude vs. cloudiness\n",
    "northern.plot(\"Latitude\", \"Cloudiness\", kind=\"scatter\", title=f\"Northern Hemisphere vs Cloudiness {today}\", grid=True, \n",
    "        s=40, edgecolors=\"black\", alpha=0.80)\n",
    "\n",
    "# used for linear regression\n",
    "x = northern[\"Latitude\"]\n",
    "y = northern[\"Cloudiness\"]\n",
    "(slope, intercept, rvalue, pvalue, stderr) = linregress(x, y)\n",
    "regress_vals = x * slope + intercept\n",
    "line_eq = \"y = \" + str(round(slope,2))+ \"x + \" + str(round(intercept, 2))\n",
    "plt.plot(x, regress_vals, \"r-\")\n",
    "plt.annotate(line_eq, (45,50), fontsize = 15, color=\"red\")\n",
    "print(f\"The r-value is: {rvalue**2}\")"
   ]
  },
  {
   "cell_type": "code",
   "execution_count": null,
   "id": "b7126c56",
   "metadata": {},
   "outputs": [],
   "source": [
    "# plots for southern hemisphere for latitude vs. humidity\n",
    "southern.plot(\"Latitude\", \"Cloudiness\", kind=\"scatter\", title=f\"Southern Hemisphere Latitude vs Cloudiness {today}\", grid=True, \n",
    "        s=40, edgecolors=\"black\", alpha=0.80)\n",
    "\n",
    "# used for linear regression\n",
    "x = southern[\"Latitude\"]\n",
    "y = southern[\"Cloudiness\"]\n",
    "(slope, intercept, rvalue, pvalue, stderr) = linregress(x, y)\n",
    "regress_vals = x * slope + intercept\n",
    "line_eq = \"y = \" + str(round(slope,2))+ \"x + \" + str(round(intercept, 2))\n",
    "plt.plot(x, regress_vals, \"r-\")\n",
    "plt.annotate(line_eq, (-55,30), fontsize = 15, color=\"red\")\n",
    "print(f\"The r-value is: {rvalue**2}\")"
   ]
  },
  {
   "cell_type": "code",
   "execution_count": null,
   "id": "3ff4f7e1",
   "metadata": {},
   "outputs": [],
   "source": [
    "# plots for northern hemisphere for latitude vs. wind speed\n",
    "northern.plot(\"Latitude\", \"Wind Speed\", kind=\"scatter\", title=f\"Northern Hemisphere vs Wind Speed {today}\", grid=True, \n",
    "        s=40, edgecolors=\"black\", alpha=0.80)\n",
    "\n",
    "# used for linear regression\n",
    "x = northern[\"Latitude\"]\n",
    "y = northern[\"Wind Speed\"]\n",
    "(slope, intercept, rvalue, pvalue, stderr) = linregress(x, y)\n",
    "regress_vals = x * slope + intercept\n",
    "line_eq = \"y = \" + str(round(slope,2))+ \"x + \" + str(round(intercept, 2))\n",
    "plt.plot(x, regress_vals, \"r-\")\n",
    "plt.annotate(line_eq, (5,30), fontsize = 15, color=\"red\")\n",
    "print(f\"The r-value is: {rvalue**2}\")"
   ]
  },
  {
   "cell_type": "code",
   "execution_count": null,
   "id": "32060272",
   "metadata": {},
   "outputs": [],
   "source": [
    "# plots for southern hemisphere for latitude vs. humidity\n",
    "southern.plot(\"Latitude\", \"Wind Speed\", kind=\"scatter\", title=f\"Southern Hemisphere Latitude vs Wind Speed {today}\", grid=True, \n",
    "        s=40, edgecolors=\"black\", alpha=0.80)\n",
    "\n",
    "# used for linear regression\n",
    "x = southern[\"Latitude\"]\n",
    "y = southern[\"Wind Speed\"]\n",
    "(slope, intercept, rvalue, pvalue, stderr) = linregress(x, y)\n",
    "regress_vals = x * slope + intercept\n",
    "line_eq = \"y = \" + str(round(slope,2))+ \"x + \" + str(round(intercept, 2))\n",
    "plt.plot(x, regress_vals, \"r-\")\n",
    "plt.annotate(line_eq, (-55,17), fontsize = 15, color=\"red\")\n",
    "print(f\"The r-value is: {rvalue**2}\")"
   ]
  }
 ],
 "metadata": {
  "kernelspec": {
   "display_name": "Python 3 (ipykernel)",
   "language": "python",
   "name": "python3"
  },
  "language_info": {
   "codemirror_mode": {
    "name": "ipython",
    "version": 3
   },
   "file_extension": ".py",
   "mimetype": "text/x-python",
   "name": "python",
   "nbconvert_exporter": "python",
   "pygments_lexer": "ipython3",
   "version": "3.9.7"
  }
 },
 "nbformat": 4,
 "nbformat_minor": 5
}
